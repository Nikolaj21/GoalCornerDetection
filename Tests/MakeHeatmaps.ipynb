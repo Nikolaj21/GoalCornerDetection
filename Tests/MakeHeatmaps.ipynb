{
 "cells": [
  {
   "cell_type": "code",
   "execution_count": 4,
   "metadata": {
    "pycharm": {
     "name": "#%%\n"
    }
   },
   "outputs": [],
   "source": [
    "from utils import DATA_DIR\n",
    "import Core.DataLoader\n",
    "import torchvision.models.detection.keypoint_rcnn as kp_rcnn\n",
    "\n",
    "dataloader = GoalCalibrationDataset(DATA_DIR)"
   ]
  },
  {
   "cell_type": "code",
   "execution_count": null,
   "metadata": {},
   "outputs": [],
   "source": []
  },
  {
   "cell_type": "code",
   "execution_count": null,
   "metadata": {},
   "outputs": [],
   "source": []
  }
 ],
 "metadata": {
  "kernelspec": {
   "display_name": "Python 3.9.13 ('gcd')",
   "language": "python",
   "name": "python3"
  },
  "language_info": {
   "codemirror_mode": {
    "name": "ipython",
    "version": 3
   },
   "file_extension": ".py",
   "mimetype": "text/x-python",
   "name": "python",
   "nbconvert_exporter": "python",
   "pygments_lexer": "ipython3",
   "version": "3.9.13"
  },
  "orig_nbformat": 4,
  "vscode": {
   "interpreter": {
    "hash": "d0608aae35e7ae75c05bec2281571989e5eded3c3fbe78ff34275bf60c32f74f"
   }
  }
 },
 "nbformat": 4,
 "nbformat_minor": 2
}
