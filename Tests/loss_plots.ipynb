{
 "cells": [
  {
   "cell_type": "code",
   "execution_count": null,
   "metadata": {},
   "outputs": [],
   "source": [
    "import matplotlib as plt\n",
    "import numpy as np\n",
    "import json\n",
    "\n",
    "with open(r'/zhome/60/1/118435/Master_Thesis/GoalCornerDetection/Models/kp_rcnn_v1_5epochs/','r') as file:\n",
    "    loss_dict = json.load(file)"
   ]
  },
  {
   "cell_type": "code",
   "execution_count": 2,
   "metadata": {},
   "outputs": [
    {
     "ename": "SyntaxError",
     "evalue": "invalid syntax (986778029.py, line 2)",
     "output_type": "error",
     "traceback": [
      "\u001b[0;36m  Input \u001b[0;32mIn [2]\u001b[0;36m\u001b[0m\n\u001b[0;31m    x = np.arange(5)\u001b[0m\n\u001b[0m    ^\u001b[0m\n\u001b[0;31mSyntaxError\u001b[0m\u001b[0;31m:\u001b[0m invalid syntax\n"
     ]
    }
   ],
   "source": [
    "fig,ax = plt.subplots(1,figsize=(5,5)\n",
    "x = np.arange(5)\n",
    "ax.plot(x,loss_dict['loss_keypoint_train_mean'])\n",
    "ax.plot(x,loss_dict['loss_keypoint_val_mean'])"
   ]
  }
 ],
 "metadata": {
  "kernelspec": {
   "display_name": "Python 3.9.13 ('gcdhpc')",
   "language": "python",
   "name": "python3"
  },
  "language_info": {
   "codemirror_mode": {
    "name": "ipython",
    "version": 3
   },
   "file_extension": ".py",
   "mimetype": "text/x-python",
   "name": "python",
   "nbconvert_exporter": "python",
   "pygments_lexer": "ipython3",
   "version": "3.9.13"
  },
  "orig_nbformat": 4,
  "vscode": {
   "interpreter": {
    "hash": "3ac8839178d1c6fa72a35ebf16e8d3a18883e9cb397cd87f3ae5c3bb16c46c3a"
   }
  }
 },
 "nbformat": 4,
 "nbformat_minor": 2
}
