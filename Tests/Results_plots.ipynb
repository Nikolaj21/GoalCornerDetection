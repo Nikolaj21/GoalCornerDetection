{
 "cells": [
  {
   "cell_type": "code",
   "execution_count": 307,
   "id": "01d7217c",
   "metadata": {},
   "outputs": [
    {
     "name": "stdout",
     "output_type": "stream",
     "text": [
      "Thu Jan 19 10:32:58 2023       \n",
      "+-----------------------------------------------------------------------------+\n",
      "| NVIDIA-SMI 517.00       Driver Version: 517.00       CUDA Version: 11.7     |\n",
      "|-------------------------------+----------------------+----------------------+\n",
      "| GPU  Name            TCC/WDDM | Bus-Id        Disp.A | Volatile Uncorr. ECC |\n",
      "| Fan  Temp  Perf  Pwr:Usage/Cap|         Memory-Usage | GPU-Util  Compute M. |\n",
      "|                               |                      |               MIG M. |\n",
      "|===============================+======================+======================|\n",
      "|   0  NVIDIA GeForce ... WDDM  | 00000000:01:00.0 Off |                  N/A |\n",
      "| N/A   48C    P8     3W /  N/A |      0MiB /  4096MiB |      0%      Default |\n",
      "|                               |                      |                  N/A |\n",
      "+-------------------------------+----------------------+----------------------+\n",
      "                                                                               \n",
      "+-----------------------------------------------------------------------------+\n",
      "| Processes:                                                                  |\n",
      "|  GPU   GI   CI        PID   Type   Process name                  GPU Memory |\n",
      "|        ID   ID                                                   Usage      |\n",
      "|=============================================================================|\n",
      "|  No running processes found                                                 |\n",
      "+-----------------------------------------------------------------------------+\n"
     ]
    }
   ],
   "source": [
    "import sys\n",
    "home_folder = 'C:\\\\Users\\\\Nikolaj\\\\OneDrive - Danmarks Tekniske Universitet\\\\DTU\\\\Kandidat\\\\MasterThesis\\\\Code\\\\GoalCornerDetection'\n",
    "# sys.path.append(r'/zhome/60/1/118435/Master_Thesis/GoalCornerDetection')\n",
    "sys.path.append(home_folder)\n",
    "!nvidia-smi"
   ]
  },
  {
   "cell_type": "code",
   "execution_count": 308,
   "id": "212d3733",
   "metadata": {},
   "outputs": [],
   "source": [
    "import os\n",
    "os.environ['CUDA_LAUNCH_BLOCKING'] = \"1\"\n",
    "os.environ['CUDA_VISIBLE_DEVICES'] = \"0\"\n",
    "import torch\n",
    "device = torch.device('cuda') if torch.cuda.is_available() else torch.device('cpu')\n",
    "from Core.DataLoader import GoalCalibrationDataset,GoalCalibrationDataset4boxes,GoalCalibrationDatasetOLD,\\\n",
    "train_transform,make_gt_boxes\n",
    "from torchvision.models.detection import keypointrcnn_resnet50_fpn\n",
    "from torchvision.models.detection.rpn import AnchorGenerator\n",
    "from utils import DATA_DIR\n",
    "import matplotlib.pyplot as plt\n",
    "from Core.helpers import to_numpy,im_to_numpy,split_data_train_test,test_num_workers, \\\n",
    "find_pixelerror,eval_PCK, PCK_auc, MSE_loss_corners\n",
    "import numpy as np\n",
    "import cv2\n",
    "import json\n",
    "from Core.plottools import target_to_keypoints, visualize_results, visualize, get_prediction_images, \\\n",
    "crop_image, crop_images, filter_preds, kps_to_cv2, make_pred_image, visualize_cropped_results, visualize_images\n",
    "import torchvision\n",
    "from PIL import Image\n",
    "import albumentations as A # Library for augmentations\n",
    "import torchvision.transforms as T\n",
    "from tqdm.notebook import tqdm\n",
    "from torch.utils.data import random_split,Subset,DataLoader,RandomSampler\n",
    "from Core.torchhelpers.utils import collate_fn\n",
    "import pandas as pd\n",
    "from pprint import pprint\n",
    "from torchinfo import summary\n",
    "from torch.utils.data import DataLoader\n",
    "from Core.torchhelpers.utils import collate_fn\n",
    "import time\n",
    "import datetime\n",
    "from Models.modelzoo import load_custom_batch,loadmymodel\n",
    "import pickle"
   ]
  },
  {
   "cell_type": "code",
   "execution_count": 3,
   "id": "884a1baf",
   "metadata": {},
   "outputs": [
    {
     "name": "stdout",
     "output_type": "stream",
     "text": [
      "All images: 854\n",
      "Filtered images: 754\n",
      "All images: 854\n",
      "Filtered images: 754\n",
      "All images: 854\n",
      "Filtered images: 754\n",
      "Config not given, using default values for bbox_expand.\n"
     ]
    }
   ],
   "source": [
    "## Load datasets\n",
    "GoalDataold = GoalCalibrationDatasetOLD(DATA_DIR)\n",
    "GoalData = GoalCalibrationDataset(DATA_DIR)\n",
    "GoalData4box = GoalCalibrationDataset4boxes(DATA_DIR)"
   ]
  },
  {
   "cell_type": "code",
   "execution_count": 4,
   "id": "e4682fa2",
   "metadata": {},
   "outputs": [
    {
     "name": "stdout",
     "output_type": "stream",
     "text": [
      "###################\n",
      "Total size of dataset: 754\n",
      "Train data --> Size: 566, batch size: 4\n",
      "Validation data --> Size: 188, batch size: 4\n"
     ]
    }
   ],
   "source": [
    "train_loader,validation_loader = split_data_train_test(GoalData,\n",
    "                                                       GoalData,\n",
    "                                                       validation_split=0.25,\n",
    "                                                       batch_size=4,\n",
    "                                                       data_amount=1,\n",
    "                                                       num_workers=2,\n",
    "                                                       shuffle_dataset=True,\n",
    "                                                       shuffle_dataset_seed=20,\n",
    "                                                       shuffle_epoch = False,\n",
    "                                                       shuffle_epoch_seed=-1,\n",
    "                                                       pin_memory=False)"
   ]
  },
  {
   "cell_type": "markdown",
   "id": "0eb91ee7",
   "metadata": {},
   "source": [
    "# Script for extracting errors table from wandb"
   ]
  },
  {
   "cell_type": "code",
   "execution_count": 27,
   "id": "e50c049c",
   "metadata": {
    "collapsed": true
   },
   "outputs": [
    {
     "data": {
      "text/html": [
       "Finishing last run (ID:3lp96wt3) before initializing another..."
      ],
      "text/plain": [
       "<IPython.core.display.HTML object>"
      ]
     },
     "metadata": {},
     "output_type": "display_data"
    },
    {
     "data": {
      "text/html": [
       "Waiting for W&B process to finish... <strong style=\"color:green\">(success).</strong>"
      ],
      "text/plain": [
       "<IPython.core.display.HTML object>"
      ]
     },
     "metadata": {},
     "output_type": "display_data"
    },
    {
     "data": {
      "text/html": [
       "Synced <strong style=\"color:#cdcd00\">earthy-glitter-7</strong>: <a href=\"https://wandb.ai/nikolaj21/GoalCornerDetection-Tests/runs/3lp96wt3\" target=\"_blank\">https://wandb.ai/nikolaj21/GoalCornerDetection-Tests/runs/3lp96wt3</a><br/>Synced 5 W&B file(s), 0 media file(s), 0 artifact file(s) and 0 other file(s)"
      ],
      "text/plain": [
       "<IPython.core.display.HTML object>"
      ]
     },
     "metadata": {},
     "output_type": "display_data"
    },
    {
     "data": {
      "text/html": [
       "Find logs at: <code>.\\wandb\\run-20230118_163643-3lp96wt3\\logs</code>"
      ],
      "text/plain": [
       "<IPython.core.display.HTML object>"
      ]
     },
     "metadata": {},
     "output_type": "display_data"
    },
    {
     "data": {
      "text/html": [
       "Successfully finished last run (ID:3lp96wt3). Initializing new run:<br/>"
      ],
      "text/plain": [
       "<IPython.core.display.HTML object>"
      ]
     },
     "metadata": {},
     "output_type": "display_data"
    },
    {
     "data": {
      "application/vnd.jupyter.widget-view+json": {
       "model_id": "66ae7d753d424ea486d742261fa5ea03",
       "version_major": 2,
       "version_minor": 0
      },
      "text/plain": [
       "VBox(children=(Label(value='Waiting for wandb.init()...\\r'), FloatProgress(value=0.01691666666592937, max=1.0)…"
      ]
     },
     "metadata": {},
     "output_type": "display_data"
    },
    {
     "data": {
      "text/html": [
       "wandb version 0.13.9 is available!  To upgrade, please run:\n",
       " $ pip install wandb --upgrade"
      ],
      "text/plain": [
       "<IPython.core.display.HTML object>"
      ]
     },
     "metadata": {},
     "output_type": "display_data"
    },
    {
     "data": {
      "text/html": [
       "Tracking run with wandb version 0.13.5"
      ],
      "text/plain": [
       "<IPython.core.display.HTML object>"
      ]
     },
     "metadata": {},
     "output_type": "display_data"
    },
    {
     "data": {
      "text/html": [
       "Run data is saved locally in <code>C:\\Users\\Nikolaj\\OneDrive - Danmarks Tekniske Universitet\\DTU\\Kandidat\\MasterThesis\\Code\\GoalCornerDetection\\Tests\\wandb\\run-20230118_164120-1hcdczri</code>"
      ],
      "text/plain": [
       "<IPython.core.display.HTML object>"
      ]
     },
     "metadata": {},
     "output_type": "display_data"
    },
    {
     "data": {
      "text/html": [
       "Syncing run <strong><a href=\"https://wandb.ai/nikolaj21/GoalCornerDetection-Tests/runs/1hcdczri\" target=\"_blank\">valiant-rain-8</a></strong> to <a href=\"https://wandb.ai/nikolaj21/GoalCornerDetection-Tests\" target=\"_blank\">Weights & Biases</a> (<a href=\"https://wandb.me/run\" target=\"_blank\">docs</a>)<br/>"
      ],
      "text/plain": [
       "<IPython.core.display.HTML object>"
      ]
     },
     "metadata": {},
     "output_type": "display_data"
    },
    {
     "name": "stderr",
     "output_type": "stream",
     "text": [
      "\u001b[34m\u001b[1mwandb\u001b[0m: Downloading large artifact run-10t4idvg-outliers_table:v0, 104.66MB. 8 files... \n",
      "\u001b[34m\u001b[1mwandb\u001b[0m:   8 of 8 files downloaded.  \n",
      "Done. 0:0:0.0\n"
     ]
    },
    {
     "ename": "TypeError",
     "evalue": "Data row contained incompatible types:\n{'cat': 'all', 'Ndata': 752, 'min': 0.30199143290519714, 'max': 2977.94091796875, 'std': 123.64618682861328, 'mean': 33.12412643432617, 'adj_mean': 24.661212637069376, 'MSE': 16385.583984375, 'median': 12.289907455444336, 'inlier_min': 0.0, 'inlier_max': 404.062686920166, '#outliers': 6, '\\\\%outliers': 0.007978723404255319, 'outliers': [768.5975952148438, 2977.94091796875, 983.86767578125, 406.0140075683594, 569.05810546875, 658.6328735351562], 'outlier_ids': [116, 128, 426, 658, 678], 'outlier_ims': [{'_type': 'image-file', 'caption': 'Prediction Outlier, Image ID: 116', 'format': 'png', 'height': 3120, 'path': 'media/images/1aa359ccda3d8e5a9cd7.png', 'sha256': 'eaa0de353a0a50fbe9eebed89df40d9adcf0c10bfe1fe2fcae7b49d7b05e1ac4', 'width': 4208}, {'_type': 'image-file', 'caption': 'Prediction Outlier, Image ID: 128', 'format': 'png', 'height': 3120, 'path': 'media/images/15f055a30705b19d061c.png', 'sha256': '5d0fae380d503190bbad0f9a83a66bd430e320ea44980e775c56013979c58f1e', 'width': 4208}, {'_type': 'image-file', 'caption': 'Prediction Outlier, Image ID: 426', 'format': 'png', 'height': 3120, 'path': 'media/images/551951d5f22393951db7.png', 'sha256': '5d19af4b723f6c23dff5d7561844df2894146061b848e3499ed7499309b6670a', 'width': 4208}, {'_type': 'image-file', 'caption': 'Prediction Outlier, Image ID: 658', 'format': 'png', 'height': 3120, 'path': 'media/images/8c364de34ce3d36c28b9.png', 'sha256': '64e9d231700a0b21d0bc3312d6f243a7892e86d75087a49b0ca0dc16453d587f', 'width': 4208}, {'_type': 'image-file', 'caption': 'Prediction Outlier, Image ID: 678', 'format': 'png', 'height': 3120, 'path': 'media/images/295cf720d7f82a086dfb.png', 'sha256': '299db1aa8955fc66f03c36eaa400d122465eb4841afec7347a5c98249787b2c3', 'width': 4208}], 'outlier_labels': [1, 1, 1, 1, 1, 1], '#missing_corners': 0, 'missing_ids': [], 'missing_ims': [], 'missing_labels': []} of type {'cat': String, 'Ndata': Number, 'min': Number, 'max': Number, 'std': Number, 'mean': Number, 'adj_mean': Number, 'MSE': Number, 'median': Number, 'inlier_min': Number, 'inlier_max': Number, '#outliers': Number, '\\\\%outliers': Number, 'outliers': Number[], 'outlier_ids': Number[], 'outlier_ims': {'_type': String, 'caption': String, 'format': String, 'height': Number, 'path': String, 'sha256': String, 'width': Number}[], 'outlier_labels': Number[], '#missing_corners': Number, 'missing_ids': Unknown[], 'missing_ims': Unknown[], 'missing_labels': Unknown[]} is not assignable to {'cat': None or None or String, 'Ndata': None or None or Number, 'min': None or None or Number, 'max': None or None or Number, 'std': None or None or Number, 'mean': None or None or Number, 'adj_mean': None or None or Number, 'MSE': None or None or Number, 'median': None or None or Number, 'inlier_min': None or None or Number, 'inlier_max': None or None or Number, '#outliers': None or None or Number, '\\\\%outliers': None or None or Number, 'outliers': None or None or Number[], 'outlier_ids': None or None or Number[], 'outlier_ims': Image-file(box_layers:{}, box_score_keys:set(), mask_layers:{}, class_map:{})[] or None or None, 'outlier_labels': None or None or Number[], '#missing_corners': None or None or Number, 'missing_ids': None or None or Unknown[], 'missing_ims': None or None or Unknown[], 'missing_labels': None or None or Unknown[]}\nKey 'outlier_ims':\n\t{'_type': String, 'caption': String, 'format': String, 'height': Number, 'path': String, 'sha256': String, 'width': Number}[] not assignable to Image-file(box_layers:{}, box_score_keys:set(), mask_layers:{}, class_map:{})[] or None or None\n\t\t{'_type': String, 'caption': String, 'format': String, 'height': Number, 'path': String, 'sha256': String, 'width': Number}[] not assignable to Image-file(box_layers:{}, box_score_keys:set(), mask_layers:{}, class_map:{})[]\n\t\tIndex 0:\n\t\t\t{'_type': String, 'caption': String, 'format': String, 'height': Number, 'path': String, 'sha256': String, 'width': Number} not assignable to Image-file(box_layers:{}, box_score_keys:set(), mask_layers:{}, class_map:{})\n\tand\n\t\t{'_type': String, 'caption': String, 'format': String, 'height': Number, 'path': String, 'sha256': String, 'width': Number}[] not assignable to None\n\tand\n\t\t{'_type': String, 'caption': String, 'format': String, 'height': Number, 'path': String, 'sha256': String, 'width': Number}[] not assignable to None",
     "output_type": "error",
     "traceback": [
      "\u001b[1;31m---------------------------------------------------------------------------\u001b[0m",
      "\u001b[1;31mTypeError\u001b[0m                                 Traceback (most recent call last)",
      "Cell \u001b[1;32mIn [27], line 6\u001b[0m\n\u001b[0;32m      4\u001b[0m artifact \u001b[38;5;241m=\u001b[39m run\u001b[38;5;241m.\u001b[39muse_artifact(\u001b[38;5;124m'\u001b[39m\u001b[38;5;124mnikolaj21/GoalCornerDetection/run-10t4idvg-outliers_table:v0\u001b[39m\u001b[38;5;124m'\u001b[39m, \u001b[38;5;28mtype\u001b[39m\u001b[38;5;241m=\u001b[39m\u001b[38;5;124m'\u001b[39m\u001b[38;5;124mrun_table\u001b[39m\u001b[38;5;124m'\u001b[39m)\n\u001b[0;32m      5\u001b[0m \u001b[38;5;66;03m# artifact_dir = artifact.get(root=root_save_folder)\u001b[39;00m\n\u001b[1;32m----> 6\u001b[0m table \u001b[38;5;241m=\u001b[39m \u001b[43martifact\u001b[49m\u001b[38;5;241;43m.\u001b[39;49m\u001b[43mget\u001b[49m\u001b[43m(\u001b[49m\u001b[38;5;124;43m'\u001b[39;49m\u001b[38;5;124;43moutliers_table\u001b[39;49m\u001b[38;5;124;43m'\u001b[39;49m\u001b[43m)\u001b[49m\n\u001b[0;32m      7\u001b[0m wandb\u001b[38;5;241m.\u001b[39mfinish()\n",
      "File \u001b[1;32mc:\\Users\\Nikolaj\\anaconda3\\envs\\gcd\\lib\\site-packages\\wandb\\apis\\public.py:4526\u001b[0m, in \u001b[0;36mArtifact.get\u001b[1;34m(self, name)\u001b[0m\n\u001b[0;32m   4524\u001b[0m \u001b[38;5;28;01mwith\u001b[39;00m \u001b[38;5;28mopen\u001b[39m(item_path) \u001b[38;5;28;01mas\u001b[39;00m file:\n\u001b[0;32m   4525\u001b[0m     json_obj \u001b[38;5;241m=\u001b[39m json\u001b[38;5;241m.\u001b[39mload(file)\n\u001b[1;32m-> 4526\u001b[0m result \u001b[38;5;241m=\u001b[39m \u001b[43mwb_class\u001b[49m\u001b[38;5;241;43m.\u001b[39;49m\u001b[43mfrom_json\u001b[49m\u001b[43m(\u001b[49m\u001b[43mjson_obj\u001b[49m\u001b[43m,\u001b[49m\u001b[43m \u001b[49m\u001b[38;5;28;43mself\u001b[39;49m\u001b[43m)\u001b[49m\n\u001b[0;32m   4527\u001b[0m result\u001b[38;5;241m.\u001b[39m_set_artifact_source(\u001b[38;5;28mself\u001b[39m, name)\n\u001b[0;32m   4528\u001b[0m \u001b[38;5;28;01mreturn\u001b[39;00m result\n",
      "File \u001b[1;32mc:\\Users\\Nikolaj\\anaconda3\\envs\\gcd\\lib\\site-packages\\wandb\\data_types.py:602\u001b[0m, in \u001b[0;36mTable.from_json\u001b[1;34m(cls, json_obj, source_artifact)\u001b[0m\n\u001b[0;32m    597\u001b[0m \u001b[38;5;28;01mif\u001b[39;00m column_types \u001b[38;5;129;01mis\u001b[39;00m \u001b[38;5;129;01mnot\u001b[39;00m \u001b[38;5;28;01mNone\u001b[39;00m:\n\u001b[0;32m    598\u001b[0m     dtypes \u001b[38;5;241m=\u001b[39m [\n\u001b[0;32m    599\u001b[0m         column_types\u001b[38;5;241m.\u001b[39mparams[\u001b[38;5;124m\"\u001b[39m\u001b[38;5;124mtype_map\u001b[39m\u001b[38;5;124m\"\u001b[39m][\u001b[38;5;28mstr\u001b[39m(col)] \u001b[38;5;28;01mfor\u001b[39;00m col \u001b[38;5;129;01min\u001b[39;00m json_obj[\u001b[38;5;124m\"\u001b[39m\u001b[38;5;124mcolumns\u001b[39m\u001b[38;5;124m\"\u001b[39m]\n\u001b[0;32m    600\u001b[0m     ]\n\u001b[1;32m--> 602\u001b[0m new_obj \u001b[38;5;241m=\u001b[39m \u001b[38;5;28;43mcls\u001b[39;49m\u001b[43m(\u001b[49m\u001b[43mcolumns\u001b[49m\u001b[38;5;241;43m=\u001b[39;49m\u001b[43mjson_obj\u001b[49m\u001b[43m[\u001b[49m\u001b[38;5;124;43m\"\u001b[39;49m\u001b[38;5;124;43mcolumns\u001b[39;49m\u001b[38;5;124;43m\"\u001b[39;49m\u001b[43m]\u001b[49m\u001b[43m,\u001b[49m\u001b[43m \u001b[49m\u001b[43mdata\u001b[49m\u001b[38;5;241;43m=\u001b[39;49m\u001b[43mdata\u001b[49m\u001b[43m,\u001b[49m\u001b[43m \u001b[49m\u001b[43mdtype\u001b[49m\u001b[38;5;241;43m=\u001b[39;49m\u001b[43mdtypes\u001b[49m\u001b[43m)\u001b[49m\n\u001b[0;32m    604\u001b[0m \u001b[38;5;28;01mif\u001b[39;00m column_types \u001b[38;5;129;01mis\u001b[39;00m \u001b[38;5;129;01mnot\u001b[39;00m \u001b[38;5;28;01mNone\u001b[39;00m:\n\u001b[0;32m    605\u001b[0m     new_obj\u001b[38;5;241m.\u001b[39m_column_types \u001b[38;5;241m=\u001b[39m column_types\n",
      "File \u001b[1;32mc:\\Users\\Nikolaj\\anaconda3\\envs\\gcd\\lib\\site-packages\\wandb\\data_types.py:280\u001b[0m, in \u001b[0;36mTable.__init__\u001b[1;34m(self, columns, data, rows, dataframe, dtype, optional, allow_mixed_types)\u001b[0m\n\u001b[0;32m    278\u001b[0m         \u001b[38;5;28mself\u001b[39m\u001b[38;5;241m.\u001b[39m_init_from_dataframe(data, columns, optional, dtype)\n\u001b[0;32m    279\u001b[0m     \u001b[38;5;28;01melse\u001b[39;00m:\n\u001b[1;32m--> 280\u001b[0m         \u001b[38;5;28;43mself\u001b[39;49m\u001b[38;5;241;43m.\u001b[39;49m\u001b[43m_init_from_list\u001b[49m\u001b[43m(\u001b[49m\u001b[43mdata\u001b[49m\u001b[43m,\u001b[49m\u001b[43m \u001b[49m\u001b[43mcolumns\u001b[49m\u001b[43m,\u001b[49m\u001b[43m \u001b[49m\u001b[43moptional\u001b[49m\u001b[43m,\u001b[49m\u001b[43m \u001b[49m\u001b[43mdtype\u001b[49m\u001b[43m)\u001b[49m\n\u001b[0;32m    282\u001b[0m \u001b[38;5;66;03m# legacy\u001b[39;00m\n\u001b[0;32m    283\u001b[0m \u001b[38;5;28;01melif\u001b[39;00m rows \u001b[38;5;129;01mis\u001b[39;00m \u001b[38;5;129;01mnot\u001b[39;00m \u001b[38;5;28;01mNone\u001b[39;00m:\n",
      "File \u001b[1;32mc:\\Users\\Nikolaj\\anaconda3\\envs\\gcd\\lib\\site-packages\\wandb\\data_types.py:305\u001b[0m, in \u001b[0;36mTable._init_from_list\u001b[1;34m(self, data, columns, optional, dtype)\u001b[0m\n\u001b[0;32m    303\u001b[0m \u001b[38;5;28mself\u001b[39m\u001b[38;5;241m.\u001b[39m_make_column_types(dtype, optional)\n\u001b[0;32m    304\u001b[0m \u001b[38;5;28;01mfor\u001b[39;00m row \u001b[38;5;129;01min\u001b[39;00m data:\n\u001b[1;32m--> 305\u001b[0m     \u001b[38;5;28;43mself\u001b[39;49m\u001b[38;5;241;43m.\u001b[39;49m\u001b[43madd_data\u001b[49m\u001b[43m(\u001b[49m\u001b[38;5;241;43m*\u001b[39;49m\u001b[43mrow\u001b[49m\u001b[43m)\u001b[49m\n",
      "File \u001b[1;32mc:\\Users\\Nikolaj\\anaconda3\\envs\\gcd\\lib\\site-packages\\wandb\\data_types.py:470\u001b[0m, in \u001b[0;36mTable.add_data\u001b[1;34m(self, *data)\u001b[0m\n\u001b[0;32m    463\u001b[0m         \u001b[38;5;28mself\u001b[39m\u001b[38;5;241m.\u001b[39mcast(\n\u001b[0;32m    464\u001b[0m             \u001b[38;5;28mself\u001b[39m\u001b[38;5;241m.\u001b[39mcolumns[ndx],\n\u001b[0;32m    465\u001b[0m             _dtypes\u001b[38;5;241m.\u001b[39mTypeRegistry\u001b[38;5;241m.\u001b[39mtype_of(item),\n\u001b[0;32m    466\u001b[0m             optional\u001b[38;5;241m=\u001b[39m\u001b[38;5;28;01mFalse\u001b[39;00m,\n\u001b[0;32m    467\u001b[0m         )\n\u001b[0;32m    469\u001b[0m \u001b[38;5;66;03m# Update the table's column types\u001b[39;00m\n\u001b[1;32m--> 470\u001b[0m result_type \u001b[38;5;241m=\u001b[39m \u001b[38;5;28;43mself\u001b[39;49m\u001b[38;5;241;43m.\u001b[39;49m\u001b[43m_get_updated_result_type\u001b[49m\u001b[43m(\u001b[49m\u001b[43mdata\u001b[49m\u001b[43m)\u001b[49m\n\u001b[0;32m    471\u001b[0m \u001b[38;5;28mself\u001b[39m\u001b[38;5;241m.\u001b[39m_column_types \u001b[38;5;241m=\u001b[39m result_type\n\u001b[0;32m    473\u001b[0m \u001b[38;5;66;03m# rows need to be mutable\u001b[39;00m\n",
      "File \u001b[1;32mc:\\Users\\Nikolaj\\anaconda3\\envs\\gcd\\lib\\site-packages\\wandb\\data_types.py:491\u001b[0m, in \u001b[0;36mTable._get_updated_result_type\u001b[1;34m(self, row)\u001b[0m\n\u001b[0;32m    489\u001b[0m result_type \u001b[38;5;241m=\u001b[39m current_type\u001b[38;5;241m.\u001b[39massign(incoming_row_dict)\n\u001b[0;32m    490\u001b[0m \u001b[38;5;28;01mif\u001b[39;00m \u001b[38;5;28misinstance\u001b[39m(result_type, _dtypes\u001b[38;5;241m.\u001b[39mInvalidType):\n\u001b[1;32m--> 491\u001b[0m     \u001b[38;5;28;01mraise\u001b[39;00m \u001b[38;5;167;01mTypeError\u001b[39;00m(\n\u001b[0;32m    492\u001b[0m         \u001b[38;5;124m\"\u001b[39m\u001b[38;5;124mData row contained incompatible types:\u001b[39m\u001b[38;5;130;01m\\n\u001b[39;00m\u001b[38;5;132;01m{}\u001b[39;00m\u001b[38;5;124m\"\u001b[39m\u001b[38;5;241m.\u001b[39mformat(\n\u001b[0;32m    493\u001b[0m             current_type\u001b[38;5;241m.\u001b[39mexplain(incoming_row_dict)\n\u001b[0;32m    494\u001b[0m         )\n\u001b[0;32m    495\u001b[0m     )\n\u001b[0;32m    496\u001b[0m \u001b[38;5;28;01mreturn\u001b[39;00m result_type\n",
      "\u001b[1;31mTypeError\u001b[0m: Data row contained incompatible types:\n{'cat': 'all', 'Ndata': 752, 'min': 0.30199143290519714, 'max': 2977.94091796875, 'std': 123.64618682861328, 'mean': 33.12412643432617, 'adj_mean': 24.661212637069376, 'MSE': 16385.583984375, 'median': 12.289907455444336, 'inlier_min': 0.0, 'inlier_max': 404.062686920166, '#outliers': 6, '\\\\%outliers': 0.007978723404255319, 'outliers': [768.5975952148438, 2977.94091796875, 983.86767578125, 406.0140075683594, 569.05810546875, 658.6328735351562], 'outlier_ids': [116, 128, 426, 658, 678], 'outlier_ims': [{'_type': 'image-file', 'caption': 'Prediction Outlier, Image ID: 116', 'format': 'png', 'height': 3120, 'path': 'media/images/1aa359ccda3d8e5a9cd7.png', 'sha256': 'eaa0de353a0a50fbe9eebed89df40d9adcf0c10bfe1fe2fcae7b49d7b05e1ac4', 'width': 4208}, {'_type': 'image-file', 'caption': 'Prediction Outlier, Image ID: 128', 'format': 'png', 'height': 3120, 'path': 'media/images/15f055a30705b19d061c.png', 'sha256': '5d0fae380d503190bbad0f9a83a66bd430e320ea44980e775c56013979c58f1e', 'width': 4208}, {'_type': 'image-file', 'caption': 'Prediction Outlier, Image ID: 426', 'format': 'png', 'height': 3120, 'path': 'media/images/551951d5f22393951db7.png', 'sha256': '5d19af4b723f6c23dff5d7561844df2894146061b848e3499ed7499309b6670a', 'width': 4208}, {'_type': 'image-file', 'caption': 'Prediction Outlier, Image ID: 658', 'format': 'png', 'height': 3120, 'path': 'media/images/8c364de34ce3d36c28b9.png', 'sha256': '64e9d231700a0b21d0bc3312d6f243a7892e86d75087a49b0ca0dc16453d587f', 'width': 4208}, {'_type': 'image-file', 'caption': 'Prediction Outlier, Image ID: 678', 'format': 'png', 'height': 3120, 'path': 'media/images/295cf720d7f82a086dfb.png', 'sha256': '299db1aa8955fc66f03c36eaa400d122465eb4841afec7347a5c98249787b2c3', 'width': 4208}], 'outlier_labels': [1, 1, 1, 1, 1, 1], '#missing_corners': 0, 'missing_ids': [], 'missing_ims': [], 'missing_labels': []} of type {'cat': String, 'Ndata': Number, 'min': Number, 'max': Number, 'std': Number, 'mean': Number, 'adj_mean': Number, 'MSE': Number, 'median': Number, 'inlier_min': Number, 'inlier_max': Number, '#outliers': Number, '\\\\%outliers': Number, 'outliers': Number[], 'outlier_ids': Number[], 'outlier_ims': {'_type': String, 'caption': String, 'format': String, 'height': Number, 'path': String, 'sha256': String, 'width': Number}[], 'outlier_labels': Number[], '#missing_corners': Number, 'missing_ids': Unknown[], 'missing_ims': Unknown[], 'missing_labels': Unknown[]} is not assignable to {'cat': None or None or String, 'Ndata': None or None or Number, 'min': None or None or Number, 'max': None or None or Number, 'std': None or None or Number, 'mean': None or None or Number, 'adj_mean': None or None or Number, 'MSE': None or None or Number, 'median': None or None or Number, 'inlier_min': None or None or Number, 'inlier_max': None or None or Number, '#outliers': None or None or Number, '\\\\%outliers': None or None or Number, 'outliers': None or None or Number[], 'outlier_ids': None or None or Number[], 'outlier_ims': Image-file(box_layers:{}, box_score_keys:set(), mask_layers:{}, class_map:{})[] or None or None, 'outlier_labels': None or None or Number[], '#missing_corners': None or None or Number, 'missing_ids': None or None or Unknown[], 'missing_ims': None or None or Unknown[], 'missing_labels': None or None or Unknown[]}\nKey 'outlier_ims':\n\t{'_type': String, 'caption': String, 'format': String, 'height': Number, 'path': String, 'sha256': String, 'width': Number}[] not assignable to Image-file(box_layers:{}, box_score_keys:set(), mask_layers:{}, class_map:{})[] or None or None\n\t\t{'_type': String, 'caption': String, 'format': String, 'height': Number, 'path': String, 'sha256': String, 'width': Number}[] not assignable to Image-file(box_layers:{}, box_score_keys:set(), mask_layers:{}, class_map:{})[]\n\t\tIndex 0:\n\t\t\t{'_type': String, 'caption': String, 'format': String, 'height': Number, 'path': String, 'sha256': String, 'width': Number} not assignable to Image-file(box_layers:{}, box_score_keys:set(), mask_layers:{}, class_map:{})\n\tand\n\t\t{'_type': String, 'caption': String, 'format': String, 'height': Number, 'path': String, 'sha256': String, 'width': Number}[] not assignable to None\n\tand\n\t\t{'_type': String, 'caption': String, 'format': String, 'height': Number, 'path': String, 'sha256': String, 'width': Number}[] not assignable to None"
     ]
    }
   ],
   "source": [
    "import wandb\n",
    "root_save_folder = r'C:\\\\Users\\\\Nikolaj\\\\OneDrive - Danmarks Tekniske Universitet\\\\DTU\\\\Kandidat\\\\MasterThesis\\\\Code\\\\GoalCornerDetection\\\\Tests\\\\saved_data'\n",
    "run = wandb.init()\n",
    "artifact_wandbpath = 'nikolaj21/GoalCornerDetection/run-10t4idvg-outliers_table:v0'\n",
    "artifact = run.use_artifact(artifact_wandbpath, type='run_table')\n",
    "artifact_dir = artifact.get(root=root_save_folder)\n",
    "wandb.finish()"
   ]
  },
  {
   "cell_type": "code",
   "execution_count": 22,
   "id": "a41d9c96",
   "metadata": {},
   "outputs": [
    {
     "name": "stdout",
     "output_type": "stream",
     "text": [
      "C:\\\\Users\\\\Nikolaj\\\\OneDrive - Danmarks Tekniske Universitet\\\\DTU\\\\Kandidat\\\\MasterThesis\\\\Code\\\\GoalCornerDetection\\\\Tests\\\\saved_data\n"
     ]
    }
   ],
   "source": [
    "print(artifact_dir)\n",
    "import json\n",
    "with open(artifact_dir + '/outliers_table.table.json','r') as f:\n",
    "    table = json.load(f)"
   ]
  },
  {
   "cell_type": "code",
   "execution_count": 78,
   "id": "8287540c",
   "metadata": {},
   "outputs": [
    {
     "data": {
      "text/html": [
       "<div>\n",
       "<style scoped>\n",
       "    .dataframe tbody tr th:only-of-type {\n",
       "        vertical-align: middle;\n",
       "    }\n",
       "\n",
       "    .dataframe tbody tr th {\n",
       "        vertical-align: top;\n",
       "    }\n",
       "\n",
       "    .dataframe thead th {\n",
       "        text-align: right;\n",
       "    }\n",
       "</style>\n",
       "<table border=\"1\" class=\"dataframe\">\n",
       "  <thead>\n",
       "    <tr style=\"text-align: right;\">\n",
       "      <th></th>\n",
       "      <th>cat</th>\n",
       "      <th>Ndata</th>\n",
       "      <th>min</th>\n",
       "      <th>max</th>\n",
       "      <th>std</th>\n",
       "      <th>mean</th>\n",
       "      <th>adj_mean</th>\n",
       "      <th>MSE</th>\n",
       "      <th>median</th>\n",
       "      <th>inlier_min</th>\n",
       "      <th>...</th>\n",
       "      <th>#outliers</th>\n",
       "      <th>\\%outliers</th>\n",
       "      <th>outliers</th>\n",
       "      <th>outlier_ids</th>\n",
       "      <th>outlier_ims</th>\n",
       "      <th>outlier_labels</th>\n",
       "      <th>#missing_corners</th>\n",
       "      <th>missing_ids</th>\n",
       "      <th>missing_ims</th>\n",
       "      <th>missing_labels</th>\n",
       "    </tr>\n",
       "  </thead>\n",
       "  <tbody>\n",
       "    <tr>\n",
       "      <th>0</th>\n",
       "      <td>all</td>\n",
       "      <td>752</td>\n",
       "      <td>0.301991</td>\n",
       "      <td>2977.940918</td>\n",
       "      <td>123.646187</td>\n",
       "      <td>33.124126</td>\n",
       "      <td>24.661213</td>\n",
       "      <td>16385.583984</td>\n",
       "      <td>12.289907</td>\n",
       "      <td>0.0</td>\n",
       "      <td>...</td>\n",
       "      <td>6</td>\n",
       "      <td>0.007979</td>\n",
       "      <td>[768.5975952148438, 2977.94091796875, 983.8676...</td>\n",
       "      <td>[116, 128, 426, 658, 678]</td>\n",
       "      <td>[{'_type': 'image-file', 'caption': 'Predictio...</td>\n",
       "      <td>[1, 1, 1, 1, 1, 1]</td>\n",
       "      <td>0</td>\n",
       "      <td>[]</td>\n",
       "      <td>[]</td>\n",
       "      <td>[]</td>\n",
       "    </tr>\n",
       "    <tr>\n",
       "      <th>1</th>\n",
       "      <td>TL</td>\n",
       "      <td>188</td>\n",
       "      <td>0.301991</td>\n",
       "      <td>75.878731</td>\n",
       "      <td>7.886517</td>\n",
       "      <td>6.814608</td>\n",
       "      <td>5.830881</td>\n",
       "      <td>108.636032</td>\n",
       "      <td>4.702724</td>\n",
       "      <td>0.0</td>\n",
       "      <td>...</td>\n",
       "      <td>4</td>\n",
       "      <td>0.021277</td>\n",
       "      <td>[75.87873077392578, 31.6424617767334, 43.17889...</td>\n",
       "      <td>[116, 128, 205, 634]</td>\n",
       "      <td>[{'_type': 'image-file', 'caption': 'Predictio...</td>\n",
       "      <td>[1, 1, 1, 1]</td>\n",
       "      <td>0</td>\n",
       "      <td>[]</td>\n",
       "      <td>[]</td>\n",
       "      <td>[]</td>\n",
       "    </tr>\n",
       "    <tr>\n",
       "      <th>2</th>\n",
       "      <td>TR</td>\n",
       "      <td>188</td>\n",
       "      <td>0.460173</td>\n",
       "      <td>2977.940918</td>\n",
       "      <td>218.012161</td>\n",
       "      <td>25.304005</td>\n",
       "      <td>9.463893</td>\n",
       "      <td>48169.597656</td>\n",
       "      <td>5.956155</td>\n",
       "      <td>0.0</td>\n",
       "      <td>...</td>\n",
       "      <td>1</td>\n",
       "      <td>0.005319</td>\n",
       "      <td>[2977.94091796875]</td>\n",
       "      <td>[678]</td>\n",
       "      <td>[{'_type': 'image-file', 'caption': 'Predictio...</td>\n",
       "      <td>[1]</td>\n",
       "      <td>0</td>\n",
       "      <td>[]</td>\n",
       "      <td>[]</td>\n",
       "      <td>[]</td>\n",
       "    </tr>\n",
       "    <tr>\n",
       "      <th>3</th>\n",
       "      <td>BL</td>\n",
       "      <td>188</td>\n",
       "      <td>0.878046</td>\n",
       "      <td>983.867676</td>\n",
       "      <td>106.115959</td>\n",
       "      <td>56.113197</td>\n",
       "      <td>40.261302</td>\n",
       "      <td>14409.290039</td>\n",
       "      <td>44.149940</td>\n",
       "      <td>0.0</td>\n",
       "      <td>...</td>\n",
       "      <td>4</td>\n",
       "      <td>0.021277</td>\n",
       "      <td>[768.5975952148438, 983.86767578125, 569.05810...</td>\n",
       "      <td>[116, 128, 426, 658]</td>\n",
       "      <td>[{'_type': 'image-file', 'caption': 'Predictio...</td>\n",
       "      <td>[1, 1, 1, 1]</td>\n",
       "      <td>0</td>\n",
       "      <td>[]</td>\n",
       "      <td>[]</td>\n",
       "      <td>[]</td>\n",
       "    </tr>\n",
       "    <tr>\n",
       "      <th>4</th>\n",
       "      <td>BR</td>\n",
       "      <td>188</td>\n",
       "      <td>0.677536</td>\n",
       "      <td>337.139648</td>\n",
       "      <td>29.924057</td>\n",
       "      <td>44.264690</td>\n",
       "      <td>42.471394</td>\n",
       "      <td>2854.811279</td>\n",
       "      <td>44.206017</td>\n",
       "      <td>0.0</td>\n",
       "      <td>...</td>\n",
       "      <td>1</td>\n",
       "      <td>0.005319</td>\n",
       "      <td>[337.1396484375]</td>\n",
       "      <td>[116]</td>\n",
       "      <td>[{'_type': 'image-file', 'caption': 'Predictio...</td>\n",
       "      <td>[1]</td>\n",
       "      <td>0</td>\n",
       "      <td>[]</td>\n",
       "      <td>[]</td>\n",
       "      <td>[]</td>\n",
       "    </tr>\n",
       "  </tbody>\n",
       "</table>\n",
       "<p>5 rows × 21 columns</p>\n",
       "</div>"
      ],
      "text/plain": [
       "   cat  Ndata       min          max         std       mean   adj_mean  \\\n",
       "0  all    752  0.301991  2977.940918  123.646187  33.124126  24.661213   \n",
       "1   TL    188  0.301991    75.878731    7.886517   6.814608   5.830881   \n",
       "2   TR    188  0.460173  2977.940918  218.012161  25.304005   9.463893   \n",
       "3   BL    188  0.878046   983.867676  106.115959  56.113197  40.261302   \n",
       "4   BR    188  0.677536   337.139648   29.924057  44.264690  42.471394   \n",
       "\n",
       "            MSE     median  inlier_min  ...  #outliers  \\%outliers  \\\n",
       "0  16385.583984  12.289907         0.0  ...          6    0.007979   \n",
       "1    108.636032   4.702724         0.0  ...          4    0.021277   \n",
       "2  48169.597656   5.956155         0.0  ...          1    0.005319   \n",
       "3  14409.290039  44.149940         0.0  ...          4    0.021277   \n",
       "4   2854.811279  44.206017         0.0  ...          1    0.005319   \n",
       "\n",
       "                                            outliers  \\\n",
       "0  [768.5975952148438, 2977.94091796875, 983.8676...   \n",
       "1  [75.87873077392578, 31.6424617767334, 43.17889...   \n",
       "2                                 [2977.94091796875]   \n",
       "3  [768.5975952148438, 983.86767578125, 569.05810...   \n",
       "4                                   [337.1396484375]   \n",
       "\n",
       "                 outlier_ids  \\\n",
       "0  [116, 128, 426, 658, 678]   \n",
       "1       [116, 128, 205, 634]   \n",
       "2                      [678]   \n",
       "3       [116, 128, 426, 658]   \n",
       "4                      [116]   \n",
       "\n",
       "                                         outlier_ims      outlier_labels  \\\n",
       "0  [{'_type': 'image-file', 'caption': 'Predictio...  [1, 1, 1, 1, 1, 1]   \n",
       "1  [{'_type': 'image-file', 'caption': 'Predictio...        [1, 1, 1, 1]   \n",
       "2  [{'_type': 'image-file', 'caption': 'Predictio...                 [1]   \n",
       "3  [{'_type': 'image-file', 'caption': 'Predictio...        [1, 1, 1, 1]   \n",
       "4  [{'_type': 'image-file', 'caption': 'Predictio...                 [1]   \n",
       "\n",
       "  #missing_corners  missing_ids missing_ims missing_labels  \n",
       "0                0           []          []             []  \n",
       "1                0           []          []             []  \n",
       "2                0           []          []             []  \n",
       "3                0           []          []             []  \n",
       "4                0           []          []             []  \n",
       "\n",
       "[5 rows x 21 columns]"
      ]
     },
     "execution_count": 78,
     "metadata": {},
     "output_type": "execute_result"
    }
   ],
   "source": [
    "df = pd.DataFrame(data=table['data'], columns=table['columns'])\n",
    "df"
   ]
  },
  {
   "cell_type": "code",
   "execution_count": 289,
   "id": "83e8fe7f",
   "metadata": {},
   "outputs": [
    {
     "data": {
      "text/html": [
       "<div>\n",
       "<style scoped>\n",
       "    .dataframe tbody tr th:only-of-type {\n",
       "        vertical-align: middle;\n",
       "    }\n",
       "\n",
       "    .dataframe tbody tr th {\n",
       "        vertical-align: top;\n",
       "    }\n",
       "\n",
       "    .dataframe thead th {\n",
       "        text-align: right;\n",
       "    }\n",
       "</style>\n",
       "<table border=\"1\" class=\"dataframe\">\n",
       "  <thead>\n",
       "    <tr style=\"text-align: right;\">\n",
       "      <th></th>\n",
       "      <th>cat</th>\n",
       "      <th>Ndata</th>\n",
       "      <th>min</th>\n",
       "      <th>max</th>\n",
       "      <th>std</th>\n",
       "      <th>mean</th>\n",
       "      <th>adj_mean</th>\n",
       "      <th>MSE</th>\n",
       "      <th>median</th>\n",
       "    </tr>\n",
       "  </thead>\n",
       "  <tbody>\n",
       "    <tr>\n",
       "      <th>0</th>\n",
       "      <td>all</td>\n",
       "      <td>752</td>\n",
       "      <td>0.301991</td>\n",
       "      <td>2977.940918</td>\n",
       "      <td>123.646187</td>\n",
       "      <td>33.124126</td>\n",
       "      <td>24.661213</td>\n",
       "      <td>16385.583984</td>\n",
       "      <td>12.289907</td>\n",
       "    </tr>\n",
       "    <tr>\n",
       "      <th>1</th>\n",
       "      <td>TL</td>\n",
       "      <td>188</td>\n",
       "      <td>0.301991</td>\n",
       "      <td>75.878731</td>\n",
       "      <td>7.886517</td>\n",
       "      <td>6.814608</td>\n",
       "      <td>5.830881</td>\n",
       "      <td>108.636032</td>\n",
       "      <td>4.702724</td>\n",
       "    </tr>\n",
       "    <tr>\n",
       "      <th>2</th>\n",
       "      <td>TR</td>\n",
       "      <td>188</td>\n",
       "      <td>0.460173</td>\n",
       "      <td>2977.940918</td>\n",
       "      <td>218.012161</td>\n",
       "      <td>25.304005</td>\n",
       "      <td>9.463893</td>\n",
       "      <td>48169.597656</td>\n",
       "      <td>5.956155</td>\n",
       "    </tr>\n",
       "    <tr>\n",
       "      <th>3</th>\n",
       "      <td>BL</td>\n",
       "      <td>188</td>\n",
       "      <td>0.878046</td>\n",
       "      <td>983.867676</td>\n",
       "      <td>106.115959</td>\n",
       "      <td>56.113197</td>\n",
       "      <td>40.261302</td>\n",
       "      <td>14409.290039</td>\n",
       "      <td>44.149940</td>\n",
       "    </tr>\n",
       "    <tr>\n",
       "      <th>4</th>\n",
       "      <td>BR</td>\n",
       "      <td>188</td>\n",
       "      <td>0.677536</td>\n",
       "      <td>337.139648</td>\n",
       "      <td>29.924057</td>\n",
       "      <td>44.264690</td>\n",
       "      <td>42.471394</td>\n",
       "      <td>2854.811279</td>\n",
       "      <td>44.206017</td>\n",
       "    </tr>\n",
       "  </tbody>\n",
       "</table>\n",
       "</div>"
      ],
      "text/plain": [
       "   cat  Ndata       min          max         std       mean   adj_mean  \\\n",
       "0  all    752  0.301991  2977.940918  123.646187  33.124126  24.661213   \n",
       "1   TL    188  0.301991    75.878731    7.886517   6.814608   5.830881   \n",
       "2   TR    188  0.460173  2977.940918  218.012161  25.304005   9.463893   \n",
       "3   BL    188  0.878046   983.867676  106.115959  56.113197  40.261302   \n",
       "4   BR    188  0.677536   337.139648   29.924057  44.264690  42.471394   \n",
       "\n",
       "            MSE     median  \n",
       "0  16385.583984  12.289907  \n",
       "1    108.636032   4.702724  \n",
       "2  48169.597656   5.956155  \n",
       "3  14409.290039  44.149940  \n",
       "4   2854.811279  44.206017  "
      ]
     },
     "execution_count": 289,
     "metadata": {},
     "output_type": "execute_result"
    }
   ],
   "source": [
    "dfdata = [row[:9] for row in table['data']]\n",
    "dfcols = table['columns'][:9]\n",
    "df_report = pd.DataFrame(data=dfdata, columns=dfcols)\n",
    "df_report"
   ]
  },
  {
   "cell_type": "code",
   "execution_count": 300,
   "id": "e9e2e638",
   "metadata": {},
   "outputs": [
    {
     "name": "stdout",
     "output_type": "stream",
     "text": [
      "\\begin{tabular}{lrrrrrrrr}\n",
      "\\toprule\n",
      "cat &  Ndata &  min &  max &   std &  mean &  adj\\_mean &   MSE &  median \\\\\n",
      "\\midrule\n",
      "all &    752 & 0.30 & 2978 & 124.0 &  33.0 &      25.0 & 16386 &    12.0 \\\\\n",
      " TL &    188 & 0.30 &   76 &   7.9 &   6.8 &       5.8 &   109 &     4.7 \\\\\n",
      " TR &    188 & 0.46 & 2978 & 218.0 &  25.0 &       9.5 & 48170 &     6.0 \\\\\n",
      " BL &    188 & 0.88 &  984 & 106.0 &  56.0 &      40.0 & 14409 &    44.0 \\\\\n",
      " BR &    188 & 0.68 &  337 &  30.0 &  44.0 &      42.0 &  2855 &    44.0 \\\\\n",
      "\\bottomrule\n",
      "\\end{tabular}\n",
      "\n",
      "\\begin{tabular}{llrrrrrrrr}\n",
      "\\toprule\n",
      " & cat & Ndata & min & max & std & mean & adj_mean & MSE & median \\\\\n",
      "\\midrule\n",
      "0 & all & 752 & 0.300000 & 2978 & 124.000000 & 33.000000 & 25.000000 & 16386 & 12.000000 \\\\\n",
      "1 & TL & 188 & 0.300000 & 76 & 7.900000 & 6.800000 & 5.800000 & 109 & 4.700000 \\\\\n",
      "2 & TR & 188 & 0.460000 & 2978 & 218.000000 & 25.000000 & 9.500000 & 48170 & 6.000000 \\\\\n",
      "3 & BL & 188 & 0.880000 & 984 & 106.000000 & 56.000000 & 40.000000 & 14409 & 44.000000 \\\\\n",
      "4 & BR & 188 & 0.680000 & 337 & 30.000000 & 44.000000 & 42.000000 & 2855 & 44.000000 \\\\\n",
      "\\bottomrule\n",
      "\\end{tabular}\n",
      "\n"
     ]
    },
    {
     "name": "stderr",
     "output_type": "stream",
     "text": [
      "C:\\Users\\Nikolaj\\AppData\\Local\\Temp\\ipykernel_40552\\4210289573.py:1: FutureWarning: In future versions `DataFrame.to_latex` is expected to utilise the base implementation of `Styler.to_latex` for formatting and rendering. The arguments signature may therefore change. It is recommended instead to use `DataFrame.style.to_latex` which also contains additional functionality.\n",
      "  print(df_report.apply(go).to_latex(index=False))\n"
     ]
    }
   ],
   "source": [
    "print(df_report.apply(go).to_latex(index=False))\n",
    "print(df_report.apply(go).style.to_latex(hrules=True))"
   ]
  },
  {
   "cell_type": "code",
   "execution_count": 288,
   "id": "c8fff219",
   "metadata": {},
   "outputs": [
    {
     "data": {
      "text/html": [
       "<div>\n",
       "<style scoped>\n",
       "    .dataframe tbody tr th:only-of-type {\n",
       "        vertical-align: middle;\n",
       "    }\n",
       "\n",
       "    .dataframe tbody tr th {\n",
       "        vertical-align: top;\n",
       "    }\n",
       "\n",
       "    .dataframe thead th {\n",
       "        text-align: right;\n",
       "    }\n",
       "</style>\n",
       "<table border=\"1\" class=\"dataframe\">\n",
       "  <thead>\n",
       "    <tr style=\"text-align: right;\">\n",
       "      <th></th>\n",
       "      <th>cat</th>\n",
       "      <th>Ndata</th>\n",
       "      <th>min</th>\n",
       "      <th>max</th>\n",
       "      <th>std</th>\n",
       "      <th>mean</th>\n",
       "      <th>adj_mean</th>\n",
       "      <th>MSE</th>\n",
       "      <th>median</th>\n",
       "      <th>inlier_max</th>\n",
       "      <th>#outliers</th>\n",
       "    </tr>\n",
       "  </thead>\n",
       "  <tbody>\n",
       "    <tr>\n",
       "      <th>0</th>\n",
       "      <td>all</td>\n",
       "      <td>752</td>\n",
       "      <td>0.301991</td>\n",
       "      <td>2977.940918</td>\n",
       "      <td>123.646187</td>\n",
       "      <td>33.124126</td>\n",
       "      <td>24.661213</td>\n",
       "      <td>16385.583984</td>\n",
       "      <td>12.289907</td>\n",
       "      <td>404.062687</td>\n",
       "      <td>6</td>\n",
       "    </tr>\n",
       "    <tr>\n",
       "      <th>1</th>\n",
       "      <td>TL</td>\n",
       "      <td>188</td>\n",
       "      <td>0.301991</td>\n",
       "      <td>75.878731</td>\n",
       "      <td>7.886517</td>\n",
       "      <td>6.814608</td>\n",
       "      <td>5.830881</td>\n",
       "      <td>108.636032</td>\n",
       "      <td>4.702724</td>\n",
       "      <td>30.474159</td>\n",
       "      <td>4</td>\n",
       "    </tr>\n",
       "    <tr>\n",
       "      <th>2</th>\n",
       "      <td>TR</td>\n",
       "      <td>188</td>\n",
       "      <td>0.460173</td>\n",
       "      <td>2977.940918</td>\n",
       "      <td>218.012161</td>\n",
       "      <td>25.304005</td>\n",
       "      <td>9.463893</td>\n",
       "      <td>48169.597656</td>\n",
       "      <td>5.956155</td>\n",
       "      <td>679.340488</td>\n",
       "      <td>1</td>\n",
       "    </tr>\n",
       "    <tr>\n",
       "      <th>3</th>\n",
       "      <td>BL</td>\n",
       "      <td>188</td>\n",
       "      <td>0.878046</td>\n",
       "      <td>983.867676</td>\n",
       "      <td>106.115959</td>\n",
       "      <td>56.113197</td>\n",
       "      <td>40.261302</td>\n",
       "      <td>14409.290039</td>\n",
       "      <td>44.149940</td>\n",
       "      <td>374.461075</td>\n",
       "      <td>4</td>\n",
       "    </tr>\n",
       "    <tr>\n",
       "      <th>4</th>\n",
       "      <td>BR</td>\n",
       "      <td>188</td>\n",
       "      <td>0.677536</td>\n",
       "      <td>337.139648</td>\n",
       "      <td>29.924057</td>\n",
       "      <td>44.264690</td>\n",
       "      <td>42.471394</td>\n",
       "      <td>2854.811279</td>\n",
       "      <td>44.206017</td>\n",
       "      <td>134.036861</td>\n",
       "      <td>1</td>\n",
       "    </tr>\n",
       "  </tbody>\n",
       "</table>\n",
       "</div>"
      ],
      "text/plain": [
       "   cat  Ndata       min          max         std       mean   adj_mean  \\\n",
       "0  all    752  0.301991  2977.940918  123.646187  33.124126  24.661213   \n",
       "1   TL    188  0.301991    75.878731    7.886517   6.814608   5.830881   \n",
       "2   TR    188  0.460173  2977.940918  218.012161  25.304005   9.463893   \n",
       "3   BL    188  0.878046   983.867676  106.115959  56.113197  40.261302   \n",
       "4   BR    188  0.677536   337.139648   29.924057  44.264690  42.471394   \n",
       "\n",
       "            MSE     median  inlier_max  #outliers  \n",
       "0  16385.583984  12.289907  404.062687          6  \n",
       "1    108.636032   4.702724   30.474159          4  \n",
       "2  48169.597656   5.956155  679.340488          1  \n",
       "3  14409.290039  44.149940  374.461075          4  \n",
       "4   2854.811279  44.206017  134.036861          1  "
      ]
     },
     "execution_count": 288,
     "metadata": {},
     "output_type": "execute_result"
    }
   ],
   "source": [
    "dfdata = [row[:9]+row[10:13] for row in table['data']]\n",
    "dfcols = table['columns'][:9] + table['columns'][10:13]\n",
    "df_report = pd.DataFrame(data=dfdata, columns=dfcols)\n",
    "df_report"
   ]
  },
  {
   "cell_type": "code",
   "execution_count": 283,
   "id": "27e1ea29",
   "metadata": {},
   "outputs": [
    {
     "data": {
      "text/html": [
       "<div>\n",
       "<style scoped>\n",
       "    .dataframe tbody tr th:only-of-type {\n",
       "        vertical-align: middle;\n",
       "    }\n",
       "\n",
       "    .dataframe tbody tr th {\n",
       "        vertical-align: top;\n",
       "    }\n",
       "\n",
       "    .dataframe thead th {\n",
       "        text-align: right;\n",
       "    }\n",
       "</style>\n",
       "<table border=\"1\" class=\"dataframe\">\n",
       "  <thead>\n",
       "    <tr style=\"text-align: right;\">\n",
       "      <th></th>\n",
       "      <th>cat</th>\n",
       "      <th>Ndata</th>\n",
       "      <th>min</th>\n",
       "      <th>max</th>\n",
       "      <th>std</th>\n",
       "      <th>mean</th>\n",
       "      <th>adj_mean</th>\n",
       "      <th>MSE</th>\n",
       "      <th>median</th>\n",
       "      <th>inlier_max</th>\n",
       "      <th>#outliers</th>\n",
       "      <th>\\%outliers</th>\n",
       "    </tr>\n",
       "  </thead>\n",
       "  <tbody>\n",
       "    <tr>\n",
       "      <th>0</th>\n",
       "      <td>all</td>\n",
       "      <td>752</td>\n",
       "      <td>0.30</td>\n",
       "      <td>2978</td>\n",
       "      <td>124.0</td>\n",
       "      <td>33.0</td>\n",
       "      <td>25.0</td>\n",
       "      <td>16386</td>\n",
       "      <td>12.0</td>\n",
       "      <td>404</td>\n",
       "      <td>6</td>\n",
       "      <td>0.01</td>\n",
       "    </tr>\n",
       "    <tr>\n",
       "      <th>1</th>\n",
       "      <td>TL</td>\n",
       "      <td>188</td>\n",
       "      <td>0.30</td>\n",
       "      <td>76</td>\n",
       "      <td>7.9</td>\n",
       "      <td>6.8</td>\n",
       "      <td>5.8</td>\n",
       "      <td>109</td>\n",
       "      <td>4.7</td>\n",
       "      <td>30</td>\n",
       "      <td>4</td>\n",
       "      <td>0.02</td>\n",
       "    </tr>\n",
       "    <tr>\n",
       "      <th>2</th>\n",
       "      <td>TR</td>\n",
       "      <td>188</td>\n",
       "      <td>0.46</td>\n",
       "      <td>2978</td>\n",
       "      <td>218.0</td>\n",
       "      <td>25.0</td>\n",
       "      <td>9.5</td>\n",
       "      <td>48170</td>\n",
       "      <td>6.0</td>\n",
       "      <td>679</td>\n",
       "      <td>1</td>\n",
       "      <td>0.01</td>\n",
       "    </tr>\n",
       "    <tr>\n",
       "      <th>3</th>\n",
       "      <td>BL</td>\n",
       "      <td>188</td>\n",
       "      <td>0.88</td>\n",
       "      <td>984</td>\n",
       "      <td>106.0</td>\n",
       "      <td>56.0</td>\n",
       "      <td>40.0</td>\n",
       "      <td>14409</td>\n",
       "      <td>44.0</td>\n",
       "      <td>374</td>\n",
       "      <td>4</td>\n",
       "      <td>0.02</td>\n",
       "    </tr>\n",
       "    <tr>\n",
       "      <th>4</th>\n",
       "      <td>BR</td>\n",
       "      <td>188</td>\n",
       "      <td>0.68</td>\n",
       "      <td>337</td>\n",
       "      <td>30.0</td>\n",
       "      <td>44.0</td>\n",
       "      <td>42.0</td>\n",
       "      <td>2855</td>\n",
       "      <td>44.0</td>\n",
       "      <td>134</td>\n",
       "      <td>1</td>\n",
       "      <td>0.01</td>\n",
       "    </tr>\n",
       "  </tbody>\n",
       "</table>\n",
       "</div>"
      ],
      "text/plain": [
       "   cat  Ndata   min   max    std  mean  adj_mean    MSE  median  inlier_max  \\\n",
       "0  all    752  0.30  2978  124.0  33.0      25.0  16386    12.0         404   \n",
       "1   TL    188  0.30    76    7.9   6.8       5.8    109     4.7          30   \n",
       "2   TR    188  0.46  2978  218.0  25.0       9.5  48170     6.0         679   \n",
       "3   BL    188  0.88   984  106.0  56.0      40.0  14409    44.0         374   \n",
       "4   BR    188  0.68   337   30.0  44.0      42.0   2855    44.0         134   \n",
       "\n",
       "   #outliers  \\%outliers  \n",
       "0          6        0.01  \n",
       "1          4        0.02  \n",
       "2          1        0.01  \n",
       "3          4        0.02  \n",
       "4          1        0.01  "
      ]
     },
     "execution_count": 283,
     "metadata": {},
     "output_type": "execute_result"
    }
   ],
   "source": [
    "def round_int(a):\n",
    "#     print(a,type(a))\n",
    "    if a < 10:\n",
    "        if a < 1:\n",
    "            return np.round(a,2)\n",
    "        else:\n",
    "#         print('here')\n",
    "            return np.round(a,1)\n",
    "    else:\n",
    "#         print('ugh')\n",
    "        return int(np.round(a,0))\n",
    "def go(a):\n",
    "#     print(a,type(a))\n",
    "    if pd.to_numeric(a, errors='coerce').notnull().all():\n",
    "        return a.apply(round_int)\n",
    "    else:\n",
    "        return a\n",
    "df_report.apply(go)"
   ]
  },
  {
   "cell_type": "code",
   "execution_count": 286,
   "id": "706385b8",
   "metadata": {},
   "outputs": [
    {
     "data": {
      "text/html": [
       "<div>\n",
       "<style scoped>\n",
       "    .dataframe tbody tr th:only-of-type {\n",
       "        vertical-align: middle;\n",
       "    }\n",
       "\n",
       "    .dataframe tbody tr th {\n",
       "        vertical-align: top;\n",
       "    }\n",
       "\n",
       "    .dataframe thead th {\n",
       "        text-align: right;\n",
       "    }\n",
       "</style>\n",
       "<table border=\"1\" class=\"dataframe\">\n",
       "  <thead>\n",
       "    <tr style=\"text-align: right;\">\n",
       "      <th></th>\n",
       "      <th>cat</th>\n",
       "      <th>Ndata</th>\n",
       "      <th>min</th>\n",
       "      <th>max</th>\n",
       "      <th>std</th>\n",
       "      <th>mean</th>\n",
       "      <th>adj_mean</th>\n",
       "      <th>MSE</th>\n",
       "      <th>median</th>\n",
       "      <th>inlier_max</th>\n",
       "      <th>#outliers</th>\n",
       "      <th>\\%outliers</th>\n",
       "    </tr>\n",
       "  </thead>\n",
       "  <tbody>\n",
       "    <tr>\n",
       "      <th>0</th>\n",
       "      <td>all</td>\n",
       "      <td>752</td>\n",
       "      <td>0.30</td>\n",
       "      <td>2978</td>\n",
       "      <td>124.0</td>\n",
       "      <td>33.0</td>\n",
       "      <td>25.0</td>\n",
       "      <td>16386</td>\n",
       "      <td>12.0</td>\n",
       "      <td>404</td>\n",
       "      <td>6</td>\n",
       "      <td>0.01</td>\n",
       "    </tr>\n",
       "    <tr>\n",
       "      <th>1</th>\n",
       "      <td>TL</td>\n",
       "      <td>188</td>\n",
       "      <td>0.30</td>\n",
       "      <td>76</td>\n",
       "      <td>7.9</td>\n",
       "      <td>6.8</td>\n",
       "      <td>5.8</td>\n",
       "      <td>109</td>\n",
       "      <td>4.7</td>\n",
       "      <td>30</td>\n",
       "      <td>4</td>\n",
       "      <td>0.02</td>\n",
       "    </tr>\n",
       "    <tr>\n",
       "      <th>2</th>\n",
       "      <td>TR</td>\n",
       "      <td>188</td>\n",
       "      <td>0.46</td>\n",
       "      <td>2978</td>\n",
       "      <td>218.0</td>\n",
       "      <td>25.0</td>\n",
       "      <td>9.5</td>\n",
       "      <td>48170</td>\n",
       "      <td>6.0</td>\n",
       "      <td>679</td>\n",
       "      <td>1</td>\n",
       "      <td>0.01</td>\n",
       "    </tr>\n",
       "    <tr>\n",
       "      <th>3</th>\n",
       "      <td>BL</td>\n",
       "      <td>188</td>\n",
       "      <td>0.88</td>\n",
       "      <td>984</td>\n",
       "      <td>106.0</td>\n",
       "      <td>56.0</td>\n",
       "      <td>40.0</td>\n",
       "      <td>14409</td>\n",
       "      <td>44.0</td>\n",
       "      <td>374</td>\n",
       "      <td>4</td>\n",
       "      <td>0.02</td>\n",
       "    </tr>\n",
       "    <tr>\n",
       "      <th>4</th>\n",
       "      <td>BR</td>\n",
       "      <td>188</td>\n",
       "      <td>0.68</td>\n",
       "      <td>337</td>\n",
       "      <td>30.0</td>\n",
       "      <td>44.0</td>\n",
       "      <td>42.0</td>\n",
       "      <td>2855</td>\n",
       "      <td>44.0</td>\n",
       "      <td>134</td>\n",
       "      <td>1</td>\n",
       "      <td>0.01</td>\n",
       "    </tr>\n",
       "  </tbody>\n",
       "</table>\n",
       "</div>"
      ],
      "text/plain": [
       "   cat  Ndata   min   max    std  mean  adj_mean    MSE  median  inlier_max  \\\n",
       "0  all    752  0.30  2978  124.0  33.0      25.0  16386    12.0         404   \n",
       "1   TL    188  0.30    76    7.9   6.8       5.8    109     4.7          30   \n",
       "2   TR    188  0.46  2978  218.0  25.0       9.5  48170     6.0         679   \n",
       "3   BL    188  0.88   984  106.0  56.0      40.0  14409    44.0         374   \n",
       "4   BR    188  0.68   337   30.0  44.0      42.0   2855    44.0         134   \n",
       "\n",
       "   #outliers  \\%outliers  \n",
       "0          6        0.01  \n",
       "1          4        0.02  \n",
       "2          1        0.01  \n",
       "3          4        0.02  \n",
       "4          1        0.01  "
      ]
     },
     "execution_count": 286,
     "metadata": {},
     "output_type": "execute_result"
    }
   ],
   "source": [
    "round_cols = ['Ndata','min','max','std','mean','adj_mean','MSE','median','inlier_max','#outliers']\n",
    "\n",
    "for col in round_cols:\n",
    "    df_report[col] = df_report[col].apply(round_int)\n",
    "df_report"
   ]
  },
  {
   "cell_type": "code",
   "execution_count": 285,
   "id": "f002622f",
   "metadata": {},
   "outputs": [
    {
     "name": "stdout",
     "output_type": "stream",
     "text": [
      "\\begin{tabular}{llrrrrrrrrrrr}\n",
      " & cat & Ndata & min & max & std & mean & adj_mean & MSE & median & inlier_max & #outliers & \\%outliers \\\\\n",
      "0 & all & 752 & 0.300000 & 2978 & 124.000000 & 33.000000 & 25.000000 & 16386 & 12.000000 & 404 & 6 & 0.010000 \\\\\n",
      "1 & TL & 188 & 0.300000 & 76 & 7.900000 & 6.800000 & 5.800000 & 109 & 4.700000 & 30 & 4 & 0.020000 \\\\\n",
      "2 & TR & 188 & 0.460000 & 2978 & 218.000000 & 25.000000 & 9.500000 & 48170 & 6.000000 & 679 & 1 & 0.010000 \\\\\n",
      "3 & BL & 188 & 0.880000 & 984 & 106.000000 & 56.000000 & 40.000000 & 14409 & 44.000000 & 374 & 4 & 0.020000 \\\\\n",
      "4 & BR & 188 & 0.680000 & 337 & 30.000000 & 44.000000 & 42.000000 & 2855 & 44.000000 & 134 & 1 & 0.010000 \\\\\n",
      "\\end{tabular}\n",
      "\n"
     ]
    }
   ],
   "source": [
    "print(df_report.style.to_latex())"
   ]
  },
  {
   "cell_type": "markdown",
   "id": "8addef29",
   "metadata": {},
   "source": [
    "# Extract prediction images from a model"
   ]
  }
 ],
 "metadata": {
  "kernelspec": {
   "display_name": "Python 3 (ipykernel)",
   "language": "python",
   "name": "python3"
  },
  "language_info": {
   "codemirror_mode": {
    "name": "ipython",
    "version": 3
   },
   "file_extension": ".py",
   "mimetype": "text/x-python",
   "name": "python",
   "nbconvert_exporter": "python",
   "pygments_lexer": "ipython3",
   "version": "3.9.13"
  }
 },
 "nbformat": 4,
 "nbformat_minor": 5
}
